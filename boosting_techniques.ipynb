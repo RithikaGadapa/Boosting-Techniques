{
  "nbformat": 4,
  "nbformat_minor": 0,
  "metadata": {
    "colab": {
      "provenance": []
    },
    "kernelspec": {
      "name": "python3",
      "display_name": "Python 3"
    },
    "language_info": {
      "name": "python"
    }
  },
  "cells": [
    {
      "cell_type": "markdown",
      "source": [
        "# **Boosting Techniques**"
      ],
      "metadata": {
        "id": "J5Pd0FY_VRe-"
      }
    },
    {
      "cell_type": "markdown",
      "source": [
        "### **Question 1: What is Boosting in Machine Learning? Explain how it improves weak learners.**\n",
        "\n",
        "Ans: Boosting is an ensemble learning technique that combines multiple weak learners (models that perform slightly better than random guessing) to form a strong learner.\n",
        "\n",
        "It works by training models sequentially — each new model focuses more on the data points that previous models misclassified. By adjusting the weights of misclassified samples, boosting reduces bias and variance, leading to improved accuracy and robustness.\n",
        "\n",
        "In short, boosting converts weak learners (e.g., shallow decision trees) into a powerful predictive model.\n"
      ],
      "metadata": {
        "id": "xACDy3hZVRbr"
      }
    },
    {
      "cell_type": "markdown",
      "source": [
        "### **Question 2: What is the difference between AdaBoost and Gradient Boosting in terms of how models are trained?**\n",
        "\n",
        "Ans: **AdaBoost:**\n",
        "- Adjusts sample weights based on misclassification errors.\n",
        "- Focuses on correcting mistakes of previous learners.\n",
        "- Combines weak learners using weighted majority voting.\n",
        "\n",
        "**Gradient Boosting:**\n",
        "- Uses gradients (errors) of the loss function to train the next model.\n",
        "- Optimizes arbitrary loss functions (e.g., MSE, log loss).\n",
        "- More flexible and powerful for both regression and classification.\n",
        "\n",
        "**Summary:**\n",
        "AdaBoost reweights samples, while Gradient Boosting fits new models to residual errors.\n"
      ],
      "metadata": {
        "id": "RvokkiGUVRZE"
      }
    },
    {
      "cell_type": "markdown",
      "source": [
        "### **Question 3: How does regularization help in XGBoost?**\n",
        "\n",
        "Ans: Regularization in XGBoost helps prevent overfitting by penalizing complex models.\n",
        "\n",
        "- **L1 regularization (α)**: Adds a penalty for the absolute value of leaf weights → promotes sparsity.\n",
        "- **L2 regularization (λ)**: Adds a penalty for the squared value of leaf weights → reduces overfitting.\n",
        "\n",
        "By controlling these penalties, XGBoost balances bias and variance, leading to more generalizable models.\n"
      ],
      "metadata": {
        "id": "Jd8Z_8JaVRWs"
      }
    },
    {
      "cell_type": "markdown",
      "source": [
        "### **Question 4: Why is CatBoost considered efficient for handling categorical data?**\n",
        "\n",
        "Ans: CatBoost efficiently handles categorical features by:\n",
        "- Using **ordered encoding** instead of one-hot encoding to avoid target leakage.\n",
        "- Converting categorical values into numerical statistics based on target averages.\n",
        "- Reducing preprocessing time since encoding is done internally.\n",
        "- Supporting GPU acceleration and handling missing values automatically.\n",
        "\n",
        "This makes CatBoost ideal for datasets with many categorical variables.\n"
      ],
      "metadata": {
        "id": "hZJh0dAVVRU9"
      }
    },
    {
      "cell_type": "markdown",
      "source": [
        "### **Question 5: What are some real-world applications where boosting techniques are preferred over bagging methods?**\n",
        "\n",
        "Ans: Boosting is preferred in:\n",
        "- **Finance:** Credit scoring, fraud detection.\n",
        "- **Healthcare:** Disease prediction from patient records.\n",
        "- **Marketing:** Customer churn prediction.\n",
        "- **E-commerce:** Recommendation systems.\n",
        "- **Cybersecurity:** Spam and intrusion detection.\n",
        "\n",
        "These applications benefit from boosting’s high accuracy and ability to handle imbalanced or noisy data.\n"
      ],
      "metadata": {
        "id": "CpwtBVV_VRRg"
      }
    },
    {
      "cell_type": "markdown",
      "source": [
        "### **Question 6: Write a Python program to:**\n",
        "● Train an AdaBoost Classifier on the Breast Cancer dataset\n",
        "● Print the model accuracy"
      ],
      "metadata": {
        "id": "bk6I1K-VVRPK"
      }
    },
    {
      "cell_type": "code",
      "source": [
        "from sklearn.datasets import load_breast_cancer\n",
        "from sklearn.model_selection import train_test_split\n",
        "from sklearn.ensemble import AdaBoostClassifier\n",
        "from sklearn.metrics import accuracy_score\n",
        "\n",
        "# Load dataset\n",
        "data = load_breast_cancer()\n",
        "X, y = data.data, data.target\n",
        "\n",
        "# Split data\n",
        "X_train, X_test, y_train, y_test = train_test_split(X, y, test_size=0.2, random_state=42)\n",
        "\n",
        "# Train AdaBoost\n",
        "model = AdaBoostClassifier(n_estimators=100, random_state=42)\n",
        "model.fit(X_train, y_train)\n",
        "\n",
        "# Evaluate\n",
        "y_pred = model.predict(X_test)\n",
        "print(\"Accuracy:\", accuracy_score(y_test, y_pred))\n"
      ],
      "metadata": {
        "colab": {
          "base_uri": "https://localhost:8080/"
        },
        "id": "uNfc3ez_Wq5q",
        "outputId": "209de3eb-7ec6-4c7d-eed3-cf582b4a3a61"
      },
      "execution_count": 1,
      "outputs": [
        {
          "output_type": "stream",
          "name": "stdout",
          "text": [
            "Accuracy: 0.9736842105263158\n"
          ]
        }
      ]
    },
    {
      "cell_type": "markdown",
      "source": [
        "### **Question 7:  Write a Python program to:**\n",
        " - Train a Gradient Boosting Regressor on the California Housing dataset  \n",
        "  - Evaluate performance using R-squared score"
      ],
      "metadata": {
        "id": "EKGJkxv1Wwgi"
      }
    },
    {
      "cell_type": "code",
      "source": [
        "from sklearn.datasets import fetch_california_housing\n",
        "from sklearn.model_selection import train_test_split\n",
        "from sklearn.ensemble import GradientBoostingRegressor\n",
        "from sklearn.metrics import r2_score\n",
        "\n",
        "# Load dataset\n",
        "data = fetch_california_housing()\n",
        "X, y = data.data, data.target\n",
        "\n",
        "# Split data\n",
        "X_train, X_test, y_train, y_test = train_test_split(X, y, test_size=0.2, random_state=42)\n",
        "\n",
        "# Train Gradient Boosting\n",
        "model = GradientBoostingRegressor(n_estimators=200, learning_rate=0.1, random_state=42)\n",
        "model.fit(X_train, y_train)\n",
        "\n",
        "# Evaluate\n",
        "y_pred = model.predict(X_test)\n",
        "print(\"R-squared Score:\", r2_score(y_test, y_pred))\n"
      ],
      "metadata": {
        "colab": {
          "base_uri": "https://localhost:8080/"
        },
        "id": "rhcR5M1dWrrJ",
        "outputId": "ebafc2d0-17e7-4196-841a-161461b6f3c3"
      },
      "execution_count": 2,
      "outputs": [
        {
          "output_type": "stream",
          "name": "stdout",
          "text": [
            "R-squared Score: 0.8004451261281281\n"
          ]
        }
      ]
    },
    {
      "cell_type": "markdown",
      "source": [
        "### **Question 8: Write a Python program to:**\n",
        " - Train an XGBoost Classifier on the Breast Cancer dataset\n",
        " - Tune the learning rate using GridSearchCV\n",
        " - Print the best parameters and accuracy"
      ],
      "metadata": {
        "id": "Zkg8R16gW2Lw"
      }
    },
    {
      "cell_type": "code",
      "source": [
        "!pip install xgboost\n",
        "\n",
        "from xgboost import XGBClassifier\n",
        "from sklearn.model_selection import GridSearchCV, train_test_split\n",
        "from sklearn.datasets import load_breast_cancer\n",
        "from sklearn.metrics import accuracy_score\n",
        "\n",
        "# Load data\n",
        "data = load_breast_cancer()\n",
        "X, y = data.data, data.target\n",
        "\n",
        "X_train, X_test, y_train, y_test = train_test_split(X, y, test_size=0.2, random_state=42)\n",
        "\n",
        "# Model and parameter grid\n",
        "xgb = XGBClassifier(use_label_encoder=False, eval_metric='logloss', random_state=42)\n",
        "param_grid = {'learning_rate': [0.01, 0.1, 0.2, 0.3]}\n",
        "\n",
        "# Grid search\n",
        "grid = GridSearchCV(xgb, param_grid, cv=3, scoring='accuracy', n_jobs=-1)\n",
        "grid.fit(X_train, y_train)\n",
        "\n",
        "# Results\n",
        "print(\"Best Parameters:\", grid.best_params_)\n",
        "best_model = grid.best_estimator_\n",
        "y_pred = best_model.predict(X_test)\n",
        "print(\"Accuracy:\", accuracy_score(y_test, y_pred))\n"
      ],
      "metadata": {
        "colab": {
          "base_uri": "https://localhost:8080/"
        },
        "id": "w8jfGdEPW1dq",
        "outputId": "7cf0d7e5-6fd6-4c61-cd52-a7f492d6a0b8"
      },
      "execution_count": 3,
      "outputs": [
        {
          "output_type": "stream",
          "name": "stdout",
          "text": [
            "Requirement already satisfied: xgboost in /usr/local/lib/python3.12/dist-packages (3.1.0)\n",
            "Requirement already satisfied: numpy in /usr/local/lib/python3.12/dist-packages (from xgboost) (2.0.2)\n",
            "Requirement already satisfied: nvidia-nccl-cu12 in /usr/local/lib/python3.12/dist-packages (from xgboost) (2.27.3)\n",
            "Requirement already satisfied: scipy in /usr/local/lib/python3.12/dist-packages (from xgboost) (1.16.2)\n"
          ]
        },
        {
          "output_type": "stream",
          "name": "stderr",
          "text": [
            "/usr/local/lib/python3.12/dist-packages/xgboost/training.py:199: UserWarning: [17:13:08] WARNING: /workspace/src/learner.cc:790: \n",
            "Parameters: { \"use_label_encoder\" } are not used.\n",
            "\n",
            "  bst.update(dtrain, iteration=i, fobj=obj)\n"
          ]
        },
        {
          "output_type": "stream",
          "name": "stdout",
          "text": [
            "Best Parameters: {'learning_rate': 0.1}\n",
            "Accuracy: 0.956140350877193\n"
          ]
        }
      ]
    },
    {
      "cell_type": "markdown",
      "source": [
        "### **Question 9: Write a Python program to:**\n",
        " - Train a CatBoost Classifier\n",
        " - Plot the confusion matrix using seaborn"
      ],
      "metadata": {
        "id": "VzdqniLEXE5W"
      }
    },
    {
      "cell_type": "code",
      "source": [
        "!pip install catboost seaborn\n",
        "\n",
        "from catboost import CatBoostClassifier\n",
        "from sklearn.datasets import load_breast_cancer\n",
        "from sklearn.model_selection import train_test_split\n",
        "from sklearn.metrics import confusion_matrix\n",
        "import seaborn as sns\n",
        "import matplotlib.pyplot as plt\n",
        "\n",
        "# Load data\n",
        "data = load_breast_cancer()\n",
        "X, y = data.data, data.target\n",
        "\n",
        "X_train, X_test, y_train, y_test = train_test_split(X, y, test_size=0.2, random_state=42)\n",
        "\n",
        "# Train CatBoost\n",
        "model = CatBoostClassifier(iterations=200, learning_rate=0.1, verbose=0)\n",
        "model.fit(X_train, y_train)\n",
        "\n",
        "# Predictions\n",
        "y_pred = model.predict(X_test)\n",
        "\n",
        "# Confusion Matrix\n",
        "cm = confusion_matrix(y_test, y_pred)\n",
        "sns.heatmap(cm, annot=True, fmt='d', cmap='Blues')\n",
        "plt.title(\"CatBoost Confusion Matrix\")\n",
        "plt.xlabel(\"Predicted\")\n",
        "plt.ylabel(\"Actual\")\n",
        "plt.show()\n"
      ],
      "metadata": {
        "colab": {
          "base_uri": "https://localhost:8080/",
          "height": 906
        },
        "id": "VY-u9IhpW9AX",
        "outputId": "4d870b47-7ca0-48c2-a64a-ac8c02c4a30c"
      },
      "execution_count": 4,
      "outputs": [
        {
          "output_type": "stream",
          "name": "stdout",
          "text": [
            "Collecting catboost\n",
            "  Downloading catboost-1.2.8-cp312-cp312-manylinux2014_x86_64.whl.metadata (1.2 kB)\n",
            "Requirement already satisfied: seaborn in /usr/local/lib/python3.12/dist-packages (0.13.2)\n",
            "Requirement already satisfied: graphviz in /usr/local/lib/python3.12/dist-packages (from catboost) (0.21)\n",
            "Requirement already satisfied: matplotlib in /usr/local/lib/python3.12/dist-packages (from catboost) (3.10.0)\n",
            "Requirement already satisfied: numpy<3.0,>=1.16.0 in /usr/local/lib/python3.12/dist-packages (from catboost) (2.0.2)\n",
            "Requirement already satisfied: pandas>=0.24 in /usr/local/lib/python3.12/dist-packages (from catboost) (2.2.2)\n",
            "Requirement already satisfied: scipy in /usr/local/lib/python3.12/dist-packages (from catboost) (1.16.2)\n",
            "Requirement already satisfied: plotly in /usr/local/lib/python3.12/dist-packages (from catboost) (5.24.1)\n",
            "Requirement already satisfied: six in /usr/local/lib/python3.12/dist-packages (from catboost) (1.17.0)\n",
            "Requirement already satisfied: contourpy>=1.0.1 in /usr/local/lib/python3.12/dist-packages (from matplotlib->catboost) (1.3.3)\n",
            "Requirement already satisfied: cycler>=0.10 in /usr/local/lib/python3.12/dist-packages (from matplotlib->catboost) (0.12.1)\n",
            "Requirement already satisfied: fonttools>=4.22.0 in /usr/local/lib/python3.12/dist-packages (from matplotlib->catboost) (4.60.1)\n",
            "Requirement already satisfied: kiwisolver>=1.3.1 in /usr/local/lib/python3.12/dist-packages (from matplotlib->catboost) (1.4.9)\n",
            "Requirement already satisfied: packaging>=20.0 in /usr/local/lib/python3.12/dist-packages (from matplotlib->catboost) (25.0)\n",
            "Requirement already satisfied: pillow>=8 in /usr/local/lib/python3.12/dist-packages (from matplotlib->catboost) (11.3.0)\n",
            "Requirement already satisfied: pyparsing>=2.3.1 in /usr/local/lib/python3.12/dist-packages (from matplotlib->catboost) (3.2.5)\n",
            "Requirement already satisfied: python-dateutil>=2.7 in /usr/local/lib/python3.12/dist-packages (from matplotlib->catboost) (2.9.0.post0)\n",
            "Requirement already satisfied: pytz>=2020.1 in /usr/local/lib/python3.12/dist-packages (from pandas>=0.24->catboost) (2025.2)\n",
            "Requirement already satisfied: tzdata>=2022.7 in /usr/local/lib/python3.12/dist-packages (from pandas>=0.24->catboost) (2025.2)\n",
            "Requirement already satisfied: tenacity>=6.2.0 in /usr/local/lib/python3.12/dist-packages (from plotly->catboost) (8.5.0)\n",
            "Downloading catboost-1.2.8-cp312-cp312-manylinux2014_x86_64.whl (99.2 MB)\n",
            "\u001b[2K   \u001b[90m━━━━━━━━━━━━━━━━━━━━━━━━━━━━━━━━━━━━━━━━\u001b[0m \u001b[32m99.2/99.2 MB\u001b[0m \u001b[31m11.7 MB/s\u001b[0m eta \u001b[36m0:00:00\u001b[0m\n",
            "\u001b[?25hInstalling collected packages: catboost\n",
            "Successfully installed catboost-1.2.8\n"
          ]
        },
        {
          "output_type": "display_data",
          "data": {
            "text/plain": [
              "<Figure size 640x480 with 2 Axes>"
            ],
            "image/png": "[encoded data removed]"
          },
          "metadata": {}
        }
      ]
    },
    {
      "cell_type": "markdown",
      "source": [
        "### **Question 10: You're working for a FinTech company trying to predict loan default using customer demographics and transaction behavior.**\n",
        "The dataset is imbalanced, contains missing values, and has both numeric and\n",
        "categorical features.\n",
        "Describe your step-by-step data science pipeline using boosting techniques:\n",
        " - Data preprocessing & handling missing/categorical values\n",
        " - Choice between AdaBoost, XGBoost, or CatBoost\n",
        "- Hyperparameter tuning strategy\n",
        " - Evaluation metrics you'd choose and why\n",
        " - How the business would benefit from your model\n",
        "\n",
        "\n"
      ],
      "metadata": {
        "id": "OsDUm4xKXRwG"
      }
    },
    {
      "cell_type": "markdown",
      "source": [
        "**Step 1: Data Preprocessing**\n",
        "- Handle missing values using imputation (mean for numeric, mode for categorical).\n",
        "- Encode categorical variables:\n",
        "  - Use CatBoost (handles categorical data automatically).\n",
        "- Normalize numerical features if needed.\n",
        "- Handle imbalance using SMOTE or scale_pos_weight.\n",
        "\n",
        "**Step 2: Model Choice**\n",
        "- Use **CatBoost** for mixed (numeric + categorical) and imbalanced data.\n",
        "\n",
        "**Step 3: Hyperparameter Tuning**\n",
        "```python\n",
        "from catboost import CatBoostClassifier\n",
        "from sklearn.model_selection import GridSearchCV\n",
        "\n",
        "params = {\n",
        "    'depth': [4, 6, 8],\n",
        "    'learning_rate': [0.01, 0.05, 0.1],\n",
        "    'iterations': [200, 400]\n",
        "}\n",
        "\n",
        "cat = CatBoostClassifier(verbose=0)\n",
        "grid = GridSearchCV(cat, param_grid=params, cv=3, scoring='roc_auc', n_jobs=-1)\n",
        "grid.fit(X_train, y_train)\n",
        "print(\"Best Params:\", grid.best_params_)\n"
      ],
      "metadata": {
        "id": "4hg4ANniXvSE"
      }
    },
    {
      "cell_type": "markdown",
      "source": [
        "**Step 4: Evaluation Metrics**\n",
        "- **ROC-AUC:** For imbalanced data.\n",
        "- **Precision, Recall, F1-score:** To measure classification quality.\n",
        "- **Confusion Matrix:** For visual interpretation.\n",
        "\n",
        "**Step 5: Business Impact**\n",
        "- Helps identify risky loan applicants.\n",
        "- Reduces financial losses due to defaults.\n",
        "- Enhances credit risk assessment and decision-making.\n"
      ],
      "metadata": {
        "id": "wawMX9CsXzf_"
      }
    }
  ]
}